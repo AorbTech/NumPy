{
 "cells": [
  {
   "cell_type": "markdown",
   "id": "cc06d4f8",
   "metadata": {},
   "source": [
    "![cover](cover/08.%20Trigonometry.png)"
   ]
  },
  {
   "cell_type": "markdown",
   "id": "190e8fb3",
   "metadata": {},
   "source": [
    "#### Outline\n",
    "* Helpful Functions\n",
    "* Trigonometric Functions\n",
    "* Inverse Functions"
   ]
  },
  {
   "cell_type": "markdown",
   "id": "44dddd71",
   "metadata": {},
   "source": [
    "##### Import NumPy"
   ]
  },
  {
   "cell_type": "code",
   "execution_count": 1,
   "id": "9b8a8aea",
   "metadata": {},
   "outputs": [],
   "source": [
    "import numpy"
   ]
  },
  {
   "cell_type": "markdown",
   "id": "2b91fb85",
   "metadata": {},
   "source": [
    "#### Helpful Functions"
   ]
  },
  {
   "cell_type": "markdown",
   "id": "a4fae789",
   "metadata": {},
   "source": [
    "##### deg2rad"
   ]
  },
  {
   "cell_type": "code",
   "execution_count": 2,
   "id": "3eb054a6",
   "metadata": {},
   "outputs": [
    {
     "name": "stdout",
     "output_type": "stream",
     "text": [
      "1.5707963267948966\n"
     ]
    }
   ],
   "source": [
    "print(numpy.deg2rad(90))    # converting from degrees to radians"
   ]
  },
  {
   "cell_type": "markdown",
   "id": "6f6fc34e",
   "metadata": {},
   "source": [
    "##### rad2deg"
   ]
  },
  {
   "cell_type": "code",
   "execution_count": 3,
   "id": "57e59c1f",
   "metadata": {},
   "outputs": [
    {
     "data": {
      "text/plain": [
       "np.float64(90.0)"
      ]
     },
     "execution_count": 3,
     "metadata": {},
     "output_type": "execute_result"
    }
   ],
   "source": [
    "numpy.rad2deg(1.5707963267948966)   # converting from radians to degrees"
   ]
  },
  {
   "cell_type": "markdown",
   "id": "f4f63a5e",
   "metadata": {},
   "source": [
    "##### pi"
   ]
  },
  {
   "cell_type": "code",
   "execution_count": 4,
   "id": "6dfb5aa7",
   "metadata": {},
   "outputs": [
    {
     "name": "stdout",
     "output_type": "stream",
     "text": [
      "3.141592653589793\n"
     ]
    }
   ],
   "source": [
    "print(numpy.pi)     # pi constant"
   ]
  },
  {
   "cell_type": "markdown",
   "id": "cd9bd2c3",
   "metadata": {},
   "source": [
    "#### Trigonometric Functions"
   ]
  },
  {
   "cell_type": "code",
   "execution_count": 5,
   "id": "baf0cbe1",
   "metadata": {},
   "outputs": [
    {
     "name": "stdout",
     "output_type": "stream",
     "text": [
      "[  0  15  30  45  60  75  90 105 120 135 150 165 180]\n"
     ]
    }
   ],
   "source": [
    "degrees = numpy.arange(0,181,15)    # create a series of degrees to test with as an array\n",
    "print(degrees) "
   ]
  },
  {
   "cell_type": "code",
   "execution_count": 6,
   "id": "90bfc5c0",
   "metadata": {},
   "outputs": [
    {
     "name": "stdout",
     "output_type": "stream",
     "text": [
      "[0.         0.26179939 0.52359878 0.78539816 1.04719755 1.30899694\n",
      " 1.57079633 1.83259571 2.0943951  2.35619449 2.61799388 2.87979327\n",
      " 3.14159265]\n"
     ]
    }
   ],
   "source": [
    "radians = numpy.deg2rad(degrees)    # convert the degrees in the array to radians to be used for the trigonometric functions\n",
    "print(radians)"
   ]
  },
  {
   "cell_type": "markdown",
   "id": "9695a909",
   "metadata": {},
   "source": [
    "##### sin"
   ]
  },
  {
   "cell_type": "code",
   "execution_count": 7,
   "id": "1ccbd054",
   "metadata": {},
   "outputs": [
    {
     "name": "stdout",
     "output_type": "stream",
     "text": [
      "0.0\n",
      "0.25881904510252074\n",
      "0.49999999999999994\n",
      "0.7071067811865476\n",
      "0.8660254037844386\n",
      "0.9659258262890683\n",
      "1.0\n",
      "0.9659258262890683\n",
      "0.8660254037844387\n",
      "0.7071067811865476\n",
      "0.49999999999999994\n",
      "0.258819045102521\n",
      "1.2246467991473532e-16\n"
     ]
    }
   ],
   "source": [
    "for radian in radians:              # visit each radian in the array\n",
    "    print(numpy.sin(radian))        # apply the sin function to the radian"
   ]
  },
  {
   "cell_type": "markdown",
   "id": "af26c0ee",
   "metadata": {},
   "source": [
    "##### cos"
   ]
  },
  {
   "cell_type": "code",
   "execution_count": 8,
   "id": "e81d2cee",
   "metadata": {},
   "outputs": [
    {
     "name": "stdout",
     "output_type": "stream",
     "text": [
      "1.0\n",
      "0.9659258262890683\n",
      "0.8660254037844387\n",
      "0.7071067811865476\n",
      "0.5000000000000001\n",
      "0.25881904510252074\n",
      "6.123233995736766e-17\n",
      "-0.25881904510252085\n",
      "-0.4999999999999998\n",
      "-0.7071067811865475\n",
      "-0.8660254037844387\n",
      "-0.9659258262890682\n",
      "-1.0\n"
     ]
    }
   ],
   "source": [
    "for radian in radians:              # visit each radian in the array\n",
    "    print(numpy.cos(radian))        # apply the sin function to the radian"
   ]
  },
  {
   "cell_type": "markdown",
   "id": "45f4d719",
   "metadata": {},
   "source": [
    "##### tan"
   ]
  },
  {
   "cell_type": "code",
   "execution_count": 9,
   "id": "97d9fa41",
   "metadata": {},
   "outputs": [
    {
     "name": "stdout",
     "output_type": "stream",
     "text": [
      "0.0\n",
      "0.2679491924311227\n",
      "0.5773502691896257\n",
      "0.9999999999999999\n",
      "1.7320508075688767\n",
      "3.7320508075688776\n",
      "1.633123935319537e+16\n",
      "-3.7320508075688763\n",
      "-1.7320508075688783\n",
      "-1.0000000000000002\n",
      "-0.5773502691896257\n",
      "-0.267949192431123\n",
      "-1.2246467991473532e-16\n"
     ]
    }
   ],
   "source": [
    "for radian in radians:              # visit each radian in the array\n",
    "    print(numpy.tan(radian))        # apply the sin function to the radian"
   ]
  },
  {
   "cell_type": "markdown",
   "id": "b854f6fc",
   "metadata": {},
   "source": [
    "#### Inverse Functions"
   ]
  },
  {
   "cell_type": "markdown",
   "id": "6a1d00ed",
   "metadata": {},
   "source": [
    "##### arcsin"
   ]
  },
  {
   "cell_type": "code",
   "execution_count": 10,
   "id": "cfcf81e4",
   "metadata": {},
   "outputs": [
    {
     "name": "stdout",
     "output_type": "stream",
     "text": [
      "90.0\n"
     ]
    }
   ],
   "source": [
    "print(numpy.rad2deg(numpy.arcsin(1)))     # inverse function of the sin function, then convert to degrees"
   ]
  },
  {
   "cell_type": "markdown",
   "id": "97f1d9ba",
   "metadata": {},
   "source": [
    "##### arccos"
   ]
  },
  {
   "cell_type": "code",
   "execution_count": 11,
   "id": "0defe65c",
   "metadata": {},
   "outputs": [
    {
     "name": "stdout",
     "output_type": "stream",
     "text": [
      "0.0\n"
     ]
    }
   ],
   "source": [
    "print(numpy.rad2deg(numpy.arccos(1)))     # inverse function of the cos function, then convert to degrees"
   ]
  },
  {
   "cell_type": "markdown",
   "id": "f5858c3a",
   "metadata": {},
   "source": [
    "##### arctan"
   ]
  },
  {
   "cell_type": "code",
   "execution_count": 12,
   "id": "780b2252",
   "metadata": {},
   "outputs": [
    {
     "name": "stdout",
     "output_type": "stream",
     "text": [
      "45.0\n"
     ]
    }
   ],
   "source": [
    "print(numpy.rad2deg(numpy.arctan(1)))     # inverse function of the tan function, then convert to degrees"
   ]
  },
  {
   "cell_type": "markdown",
   "id": "3b6e4f42",
   "metadata": {},
   "source": [
    "### For Source code:\n",
    "https://sites.google.com/view/aorbtech/programming/\n",
    "\n",
    "#### @Aorb Tech"
   ]
  }
 ],
 "metadata": {
  "kernelspec": {
   "display_name": "Python 3",
   "language": "python",
   "name": "python3"
  },
  "language_info": {
   "codemirror_mode": {
    "name": "ipython",
    "version": 3
   },
   "file_extension": ".py",
   "mimetype": "text/x-python",
   "name": "python",
   "nbconvert_exporter": "python",
   "pygments_lexer": "ipython3",
   "version": "3.13.4"
  }
 },
 "nbformat": 4,
 "nbformat_minor": 5
}
