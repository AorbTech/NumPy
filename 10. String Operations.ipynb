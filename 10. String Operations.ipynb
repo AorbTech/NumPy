{
 "cells": [
  {
   "cell_type": "markdown",
   "id": "cc06d4f8",
   "metadata": {},
   "source": [
    "![cover](cover/10.%20String%20Operations.png)"
   ]
  },
  {
   "cell_type": "markdown",
   "id": "190e8fb3",
   "metadata": {},
   "source": [
    "#### Outline\n",
    "* add\n",
    "* lower\n",
    "* upper\n",
    "* capitalize\n",
    "* center\n",
    "* join\n",
    "* replace\n",
    "* split\n",
    "* splitlines\n",
    "* title\n",
    "* equal\n",
    "* not_equal\n",
    "* find"
   ]
  },
  {
   "cell_type": "markdown",
   "id": "44dddd71",
   "metadata": {},
   "source": [
    "##### Import NumPy"
   ]
  },
  {
   "cell_type": "code",
   "execution_count": 1,
   "id": "ef1c9098",
   "metadata": {},
   "outputs": [],
   "source": [
    "import numpy"
   ]
  },
  {
   "cell_type": "markdown",
   "id": "b88d8f7f",
   "metadata": {},
   "source": [
    "#### Creating our Strings"
   ]
  },
  {
   "cell_type": "code",
   "execution_count": 2,
   "id": "39df6785",
   "metadata": {},
   "outputs": [],
   "source": [
    "intro = \"Welcome to: \"\n",
    "name = \"Aorb Tech\""
   ]
  },
  {
   "cell_type": "markdown",
   "id": "2e68856a",
   "metadata": {},
   "source": [
    "#### add"
   ]
  },
  {
   "cell_type": "code",
   "execution_count": 3,
   "id": "51ec587f",
   "metadata": {},
   "outputs": [
    {
     "data": {
      "text/plain": [
       "np.str_('Hello World')"
      ]
     },
     "execution_count": 3,
     "metadata": {},
     "output_type": "execute_result"
    }
   ],
   "source": [
    "numpy.char.add(\"Hello \", \"World\")   # adds strings together"
   ]
  },
  {
   "cell_type": "code",
   "execution_count": 4,
   "id": "00baf833",
   "metadata": {},
   "outputs": [
    {
     "data": {
      "text/plain": [
       "np.str_('Welcome to: Aorb Tech')"
      ]
     },
     "execution_count": 4,
     "metadata": {},
     "output_type": "execute_result"
    }
   ],
   "source": [
    "numpy.char.add(intro, name)"
   ]
  },
  {
   "cell_type": "markdown",
   "id": "f2ecdc16",
   "metadata": {},
   "source": [
    "#### lower"
   ]
  },
  {
   "cell_type": "code",
   "execution_count": 5,
   "id": "6112e18e",
   "metadata": {},
   "outputs": [
    {
     "name": "stdout",
     "output_type": "stream",
     "text": [
      "Aorb Tech\n"
     ]
    }
   ],
   "source": [
    "print(name) # converts all characters to lowercase"
   ]
  },
  {
   "cell_type": "code",
   "execution_count": 6,
   "id": "6183277a",
   "metadata": {},
   "outputs": [
    {
     "data": {
      "text/plain": [
       "array('aorb tech', dtype='<U9')"
      ]
     },
     "execution_count": 6,
     "metadata": {},
     "output_type": "execute_result"
    }
   ],
   "source": [
    "numpy.char.lower(name)"
   ]
  },
  {
   "cell_type": "markdown",
   "id": "327627a7",
   "metadata": {},
   "source": [
    "#### upper"
   ]
  },
  {
   "cell_type": "code",
   "execution_count": 7,
   "id": "4a9eb9f5",
   "metadata": {},
   "outputs": [
    {
     "name": "stdout",
     "output_type": "stream",
     "text": [
      "Aorb Tech\n"
     ]
    }
   ],
   "source": [
    "print(name) # converts all characters to uppercase"
   ]
  },
  {
   "cell_type": "code",
   "execution_count": 8,
   "id": "4e675234",
   "metadata": {},
   "outputs": [
    {
     "data": {
      "text/plain": [
       "array('AORB TECH', dtype='<U9')"
      ]
     },
     "execution_count": 8,
     "metadata": {},
     "output_type": "execute_result"
    }
   ],
   "source": [
    "numpy.char.upper(name)"
   ]
  },
  {
   "cell_type": "markdown",
   "id": "d49a10f7",
   "metadata": {},
   "source": [
    "#### capitalize"
   ]
  },
  {
   "cell_type": "code",
   "execution_count": 9,
   "id": "9dd7c4f4",
   "metadata": {},
   "outputs": [],
   "source": [
    "example = \"hello, welcome to the numpy course.\""
   ]
  },
  {
   "cell_type": "code",
   "execution_count": 10,
   "id": "d70753e8",
   "metadata": {},
   "outputs": [
    {
     "data": {
      "text/plain": [
       "array('Hello, welcome to the numpy course.', dtype='<U35')"
      ]
     },
     "execution_count": 10,
     "metadata": {},
     "output_type": "execute_result"
    }
   ],
   "source": [
    "numpy.char.capitalize(example)  # capitalizes the first letter of the sentence"
   ]
  },
  {
   "cell_type": "markdown",
   "id": "69ff5418",
   "metadata": {},
   "source": [
    "#### center"
   ]
  },
  {
   "cell_type": "code",
   "execution_count": 11,
   "id": "6365068b",
   "metadata": {},
   "outputs": [
    {
     "data": {
      "text/plain": [
       "array('    Welcome to:     ', dtype='<U20')"
      ]
     },
     "execution_count": 11,
     "metadata": {},
     "output_type": "execute_result"
    }
   ],
   "source": [
    "numpy.char.center(intro, 20)    # creates an empty [n] sized string with our first string in the middle"
   ]
  },
  {
   "cell_type": "code",
   "execution_count": 12,
   "id": "e2f659aa",
   "metadata": {},
   "outputs": [
    {
     "data": {
      "text/plain": [
       "array('****Welcome to: ****', dtype='<U20')"
      ]
     },
     "execution_count": 12,
     "metadata": {},
     "output_type": "execute_result"
    }
   ],
   "source": [
    "numpy.char.center(intro, 20, fillchar=\"*\")  # we can choose the fill character option"
   ]
  },
  {
   "cell_type": "markdown",
   "id": "0c1013cf",
   "metadata": {},
   "source": [
    "#### join"
   ]
  },
  {
   "cell_type": "code",
   "execution_count": 13,
   "id": "427667d2",
   "metadata": {},
   "outputs": [
    {
     "name": "stdout",
     "output_type": "stream",
     "text": [
      "Aorb Tech\n"
     ]
    }
   ],
   "source": [
    "print(name)"
   ]
  },
  {
   "cell_type": "code",
   "execution_count": 14,
   "id": "9408ece0",
   "metadata": {},
   "outputs": [
    {
     "data": {
      "text/plain": [
       "array(['A o r b   T e c h'], dtype='<U17')"
      ]
     },
     "execution_count": 14,
     "metadata": {},
     "output_type": "execute_result"
    }
   ],
   "source": [
    "numpy.char.join([\" \"], [name])  # places a string between the characters of a given string"
   ]
  },
  {
   "cell_type": "code",
   "execution_count": 15,
   "id": "2fa5c809",
   "metadata": {},
   "outputs": [
    {
     "data": {
      "text/plain": [
       "array(['W:e:l:c:o:m:e: :t:o::: ', 'A o r b   T e c h'], dtype='<U23')"
      ]
     },
     "execution_count": 15,
     "metadata": {},
     "output_type": "execute_result"
    }
   ],
   "source": [
    "numpy.char.join([\":\", \" \"], [intro, name])  # this can be done with arrays for multiple strings"
   ]
  },
  {
   "cell_type": "markdown",
   "id": "5df7421f",
   "metadata": {},
   "source": [
    "#### replace"
   ]
  },
  {
   "cell_type": "code",
   "execution_count": 16,
   "id": "93b31cf6",
   "metadata": {},
   "outputs": [
    {
     "name": "stdout",
     "output_type": "stream",
     "text": [
      "Welcome to: Aorb Tech\n"
     ]
    }
   ],
   "source": [
    "welcome = intro + name\n",
    "print(welcome)"
   ]
  },
  {
   "cell_type": "code",
   "execution_count": 17,
   "id": "c78ca4ca",
   "metadata": {},
   "outputs": [
    {
     "data": {
      "text/plain": [
       "array('Subscribe to: Aorb Tech', dtype='<U23')"
      ]
     },
     "execution_count": 17,
     "metadata": {},
     "output_type": "execute_result"
    }
   ],
   "source": [
    "numpy.char.replace(welcome, \"Welcome\", \"Subscribe\") # replaces a string within another string with a given string"
   ]
  },
  {
   "cell_type": "markdown",
   "id": "96e13f3c",
   "metadata": {},
   "source": [
    "#### split"
   ]
  },
  {
   "cell_type": "code",
   "execution_count": 18,
   "id": "5735ed2e",
   "metadata": {},
   "outputs": [
    {
     "data": {
      "text/plain": [
       "array(list(['Welcome', 'to:', 'Aorb', 'Tech']), dtype=object)"
      ]
     },
     "execution_count": 18,
     "metadata": {},
     "output_type": "execute_result"
    }
   ],
   "source": [
    "numpy.char.split(welcome)   # seperates words in a string"
   ]
  },
  {
   "cell_type": "markdown",
   "id": "b1fe446a",
   "metadata": {},
   "source": [
    "#### splitlines"
   ]
  },
  {
   "cell_type": "code",
   "execution_count": 19,
   "id": "d71e18df",
   "metadata": {},
   "outputs": [
    {
     "data": {
      "text/plain": [
       "array(list(['here', 'is', 'a', 'string']), dtype=object)"
      ]
     },
     "execution_count": 19,
     "metadata": {},
     "output_type": "execute_result"
    }
   ],
   "source": [
    "example = \"here\\nis\\na\\nstring\"\n",
    "numpy.char.splitlines(example)  # seperates lines in a string"
   ]
  },
  {
   "cell_type": "markdown",
   "id": "8b531f1e",
   "metadata": {},
   "source": [
    "#### title"
   ]
  },
  {
   "cell_type": "code",
   "execution_count": 20,
   "id": "251211ae",
   "metadata": {},
   "outputs": [
    {
     "data": {
      "text/plain": [
       "array('This Is A Title', dtype='<U15')"
      ]
     },
     "execution_count": 20,
     "metadata": {},
     "output_type": "execute_result"
    }
   ],
   "source": [
    "title = \"this is a title\"\n",
    "numpy.char.title(title) # capitalizes the first letter of each word"
   ]
  },
  {
   "cell_type": "markdown",
   "id": "9876d320",
   "metadata": {},
   "source": [
    "#### equal"
   ]
  },
  {
   "cell_type": "code",
   "execution_count": 21,
   "id": "c75cd22b",
   "metadata": {},
   "outputs": [
    {
     "data": {
      "text/plain": [
       "array(False)"
      ]
     },
     "execution_count": 21,
     "metadata": {},
     "output_type": "execute_result"
    }
   ],
   "source": [
    "a = \"Eric\"\n",
    "b = \"Amir\"\n",
    "numpy.char.equal(a, b)  # checks if two words are equal"
   ]
  },
  {
   "cell_type": "code",
   "execution_count": 22,
   "id": "5504bd39",
   "metadata": {},
   "outputs": [
    {
     "data": {
      "text/plain": [
       "array(True)"
      ]
     },
     "execution_count": 22,
     "metadata": {},
     "output_type": "execute_result"
    }
   ],
   "source": [
    "c = \"Amir\"\n",
    "numpy.char.equal(b, c)"
   ]
  },
  {
   "cell_type": "markdown",
   "id": "ddd966a0",
   "metadata": {},
   "source": [
    "#### not_equal"
   ]
  },
  {
   "cell_type": "code",
   "execution_count": 23,
   "id": "3d76f46a",
   "metadata": {},
   "outputs": [
    {
     "name": "stdout",
     "output_type": "stream",
     "text": [
      "Eric Amir Amir\n"
     ]
    }
   ],
   "source": [
    "print(a,b,c)   "
   ]
  },
  {
   "cell_type": "code",
   "execution_count": 24,
   "id": "01779fb7",
   "metadata": {},
   "outputs": [
    {
     "data": {
      "text/plain": [
       "array(True)"
      ]
     },
     "execution_count": 24,
     "metadata": {},
     "output_type": "execute_result"
    }
   ],
   "source": [
    "numpy.char.not_equal(a,b)   # checks if two words are different"
   ]
  },
  {
   "cell_type": "code",
   "execution_count": 25,
   "id": "4a65d9ac",
   "metadata": {},
   "outputs": [
    {
     "data": {
      "text/plain": [
       "array(False)"
      ]
     },
     "execution_count": 25,
     "metadata": {},
     "output_type": "execute_result"
    }
   ],
   "source": [
    "numpy.char.not_equal(b,c)"
   ]
  },
  {
   "cell_type": "markdown",
   "id": "3acc9466",
   "metadata": {},
   "source": [
    "#### count"
   ]
  },
  {
   "cell_type": "code",
   "execution_count": 26,
   "id": "c87a31a8",
   "metadata": {},
   "outputs": [],
   "source": [
    "sentence = \"This sentence is false.\"    "
   ]
  },
  {
   "cell_type": "code",
   "execution_count": 27,
   "id": "3fffc35c",
   "metadata": {},
   "outputs": [
    {
     "data": {
      "text/plain": [
       "np.int64(4)"
      ]
     },
     "execution_count": 27,
     "metadata": {},
     "output_type": "execute_result"
    }
   ],
   "source": [
    "numpy.char.count(sentence, \"s\") # counts the number of occurences of a string within a given string"
   ]
  },
  {
   "cell_type": "markdown",
   "id": "6a2815f8",
   "metadata": {},
   "source": [
    "#### find"
   ]
  },
  {
   "cell_type": "code",
   "execution_count": 28,
   "id": "462b00ed",
   "metadata": {},
   "outputs": [
    {
     "name": "stdout",
     "output_type": "stream",
     "text": [
      "Welcome to: Aorb Tech\n"
     ]
    }
   ],
   "source": [
    "print(welcome)"
   ]
  },
  {
   "cell_type": "code",
   "execution_count": 29,
   "id": "7768977d",
   "metadata": {},
   "outputs": [
    {
     "data": {
      "text/plain": [
       "np.int64(8)"
      ]
     },
     "execution_count": 29,
     "metadata": {},
     "output_type": "execute_result"
    }
   ],
   "source": [
    "numpy.char.find(welcome, \"to\")  # finds the index of a string within a given string"
   ]
  },
  {
   "cell_type": "markdown",
   "id": "3b6e4f42",
   "metadata": {},
   "source": [
    "### For Source code:\n",
    "https://sites.google.com/view/aorbtech/programming/\n",
    "\n",
    "#### @Aorb Tech"
   ]
  }
 ],
 "metadata": {
  "kernelspec": {
   "display_name": "Python 3",
   "language": "python",
   "name": "python3"
  },
  "language_info": {
   "codemirror_mode": {
    "name": "ipython",
    "version": 3
   },
   "file_extension": ".py",
   "mimetype": "text/x-python",
   "name": "python",
   "nbconvert_exporter": "python",
   "pygments_lexer": "ipython3",
   "version": "3.13.5"
  }
 },
 "nbformat": 4,
 "nbformat_minor": 5
}
