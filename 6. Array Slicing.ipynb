{
 "cells": [
  {
   "cell_type": "markdown",
   "id": "cc06d4f8",
   "metadata": {},
   "source": [
    "![cover](cover/06.%20Array%20Slicing.png)"
   ]
  },
  {
   "cell_type": "markdown",
   "id": "190e8fb3",
   "metadata": {},
   "source": [
    "#### Outline\n",
    "* Row Slicing </br>\n",
    "* Column Slicing </br>\n",
    "* Diagonal Slicing </br>\n",
    "* Item Size </br>"
   ]
  },
  {
   "cell_type": "markdown",
   "id": "44dddd71",
   "metadata": {},
   "source": [
    "##### Import NumPy"
   ]
  },
  {
   "cell_type": "code",
   "execution_count": 1,
   "id": "620f5cf8",
   "metadata": {},
   "outputs": [],
   "source": [
    "import numpy"
   ]
  },
  {
   "cell_type": "markdown",
   "id": "48466dea",
   "metadata": {},
   "source": [
    "#### Row Slicing"
   ]
  },
  {
   "cell_type": "markdown",
   "id": "7abf22f6",
   "metadata": {},
   "source": [
    "`Array[start:end:step_size]`"
   ]
  },
  {
   "cell_type": "code",
   "execution_count": 2,
   "id": "6f8e0724",
   "metadata": {},
   "outputs": [
    {
     "name": "stdout",
     "output_type": "stream",
     "text": [
      "[ 1  2  3  4  5  6  7  8  9 10]\n"
     ]
    }
   ],
   "source": [
    "array = numpy.arange(1, 11) # create our array\n",
    "print(array)"
   ]
  },
  {
   "cell_type": "code",
   "execution_count": 3,
   "id": "e9cf87f8",
   "metadata": {},
   "outputs": [
    {
     "name": "stdout",
     "output_type": "stream",
     "text": [
      "[1 2 3 4 5]\n"
     ]
    }
   ],
   "source": [
    "slice = array[0:5]          # access the first 5 elements of the array\n",
    "print(slice)"
   ]
  },
  {
   "cell_type": "code",
   "execution_count": 4,
   "id": "c1f60fb2",
   "metadata": {},
   "outputs": [
    {
     "name": "stdout",
     "output_type": "stream",
     "text": [
      "[ 2  4  6  8 10]\n"
     ]
    }
   ],
   "source": [
    "slice_even = array[1::2]    # access every even element of the array (start from the second, skip every other element)\n",
    "print(slice_even)"
   ]
  },
  {
   "cell_type": "code",
   "execution_count": 5,
   "id": "a68c768b",
   "metadata": {},
   "outputs": [
    {
     "name": "stdout",
     "output_type": "stream",
     "text": [
      "[10  9  8  7  6  5  4  3  2  1]\n"
     ]
    }
   ],
   "source": [
    "print(array[::-1])          # reverse the array (access every element, step backwards)"
   ]
  },
  {
   "cell_type": "markdown",
   "id": "27d6ed09",
   "metadata": {},
   "source": [
    "#### Column Slicing"
   ]
  },
  {
   "cell_type": "markdown",
   "id": "5f7c5824",
   "metadata": {},
   "source": [
    "`matrix[start:end:step_size, start:end:step_size]`"
   ]
  },
  {
   "cell_type": "code",
   "execution_count": 6,
   "id": "bc393c30",
   "metadata": {},
   "outputs": [
    {
     "name": "stdout",
     "output_type": "stream",
     "text": [
      "[[ 1  2  3  4  5]\n",
      " [ 6  7  8  9 10]\n",
      " [11 12 13 14 15]\n",
      " [16 17 18 19 20]\n",
      " [21 22 23 24 25]]\n"
     ]
    }
   ],
   "source": [
    "matrix = numpy.arange(1,26).reshape(5,5)    # create our matrix\n",
    "print(matrix)"
   ]
  },
  {
   "cell_type": "code",
   "execution_count": 7,
   "id": "5716cbf9",
   "metadata": {},
   "outputs": [
    {
     "name": "stdout",
     "output_type": "stream",
     "text": [
      "[ 3  8 13 18 23]\n"
     ]
    }
   ],
   "source": [
    "print(matrix[0:,2])         # access the middle (in this case 3rd) column of our matrix"
   ]
  },
  {
   "cell_type": "code",
   "execution_count": 8,
   "id": "1611858a",
   "metadata": {},
   "outputs": [
    {
     "name": "stdout",
     "output_type": "stream",
     "text": [
      "[[ 2  3  4]\n",
      " [ 7  8  9]\n",
      " [12 13 14]\n",
      " [17 18 19]\n",
      " [22 23 24]]\n"
     ]
    }
   ],
   "source": [
    "print(matrix[0:,1:4])       # access the center 3 columns of our matrix (in this case 2nd to 4th)"
   ]
  },
  {
   "cell_type": "code",
   "execution_count": 9,
   "id": "f3bbbd67",
   "metadata": {},
   "outputs": [
    {
     "name": "stdout",
     "output_type": "stream",
     "text": [
      "[[ 1  3  5]\n",
      " [ 6  8 10]\n",
      " [11 13 15]\n",
      " [16 18 20]\n",
      " [21 23 25]]\n"
     ]
    }
   ],
   "source": [
    "print(matrix[0:,::2])       # access every other element from the first"
   ]
  },
  {
   "cell_type": "markdown",
   "id": "6b9e3b02",
   "metadata": {},
   "source": [
    "##### Row and Column Slicing"
   ]
  },
  {
   "cell_type": "code",
   "execution_count": 10,
   "id": "6e27f492",
   "metadata": {},
   "outputs": [
    {
     "name": "stdout",
     "output_type": "stream",
     "text": [
      "[[ 2  4]\n",
      " [12 14]\n",
      " [22 24]]\n"
     ]
    }
   ],
   "source": [
    "print(matrix[::2,1::2])     # access every even element from every other row"
   ]
  },
  {
   "cell_type": "markdown",
   "id": "e0595590",
   "metadata": {},
   "source": [
    "#### Diagonal Slicing\n",
    "Format: </br>\n",
    "`numpy.diag(matrix, k=n)` </br>\n",
    "* n = 0 starts from first element [0, 0]\n",
    "* n > 0 moves up\n",
    "* n < 0 moves down"
   ]
  },
  {
   "cell_type": "code",
   "execution_count": 11,
   "id": "489ea81b",
   "metadata": {},
   "outputs": [
    {
     "name": "stdout",
     "output_type": "stream",
     "text": [
      "[[  1   2   3   4   5   6   7   8   9  10]\n",
      " [ 11  12  13  14  15  16  17  18  19  20]\n",
      " [ 21  22  23  24  25  26  27  28  29  30]\n",
      " [ 31  32  33  34  35  36  37  38  39  40]\n",
      " [ 41  42  43  44  45  46  47  48  49  50]\n",
      " [ 51  52  53  54  55  56  57  58  59  60]\n",
      " [ 61  62  63  64  65  66  67  68  69  70]\n",
      " [ 71  72  73  74  75  76  77  78  79  80]\n",
      " [ 81  82  83  84  85  86  87  88  89  90]\n",
      " [ 91  92  93  94  95  96  97  98  99 100]]\n"
     ]
    }
   ],
   "source": [
    "matrix = numpy.arange(1, 101).reshape(10,10)    # create our large matrix\n",
    "print(matrix)"
   ]
  },
  {
   "cell_type": "code",
   "execution_count": 12,
   "id": "17de25bd",
   "metadata": {},
   "outputs": [
    {
     "name": "stdout",
     "output_type": "stream",
     "text": [
      "[  1  12  23  34  45  56  67  78  89 100]\n"
     ]
    }
   ],
   "source": [
    "print(numpy.diag(matrix, k=0))      # access the largest diagonal, from the first element"
   ]
  },
  {
   "cell_type": "code",
   "execution_count": 13,
   "id": "9a3fa60b",
   "metadata": {},
   "outputs": [
    {
     "name": "stdout",
     "output_type": "stream",
     "text": [
      "[ 2 13 24 35 46 57 68 79 90]\n"
     ]
    }
   ],
   "source": [
    "print(numpy.diag(matrix, k=1))      # access the diagonal just above"
   ]
  },
  {
   "cell_type": "code",
   "execution_count": 14,
   "id": "defe0637",
   "metadata": {},
   "outputs": [
    {
     "name": "stdout",
     "output_type": "stream",
     "text": [
      "[11 22 33 44 55 66 77 88 99]\n"
     ]
    }
   ],
   "source": [
    "print(numpy.diag(matrix, k=-1))     # access the diagonal just below"
   ]
  },
  {
   "cell_type": "markdown",
   "id": "d5abef13",
   "metadata": {},
   "source": [
    "#### Item Size"
   ]
  },
  {
   "cell_type": "code",
   "execution_count": 15,
   "id": "2767e9b3",
   "metadata": {},
   "outputs": [
    {
     "data": {
      "text/plain": [
       "8"
      ]
     },
     "execution_count": 15,
     "metadata": {},
     "output_type": "execute_result"
    }
   ],
   "source": [
    "matrix.itemsize                     # tells us the number of bytes each element of the array takes up"
   ]
  },
  {
   "cell_type": "code",
   "execution_count": 16,
   "id": "b718f869",
   "metadata": {},
   "outputs": [
    {
     "data": {
      "text/plain": [
       "dtype('int64')"
      ]
     },
     "execution_count": 16,
     "metadata": {},
     "output_type": "execute_result"
    }
   ],
   "source": [
    "matrix.dtype                        # determine how many bits each elements take up by checking the data type"
   ]
  },
  {
   "cell_type": "code",
   "execution_count": 17,
   "id": "3faedf9d",
   "metadata": {},
   "outputs": [
    {
     "data": {
      "text/plain": [
       "8.0"
      ]
     },
     "execution_count": 17,
     "metadata": {},
     "output_type": "execute_result"
    }
   ],
   "source": [
    "64/8                                # we can verify this information by dividing 64 (number of bits) by 8 (number of bits in a byte)"
   ]
  },
  {
   "cell_type": "markdown",
   "id": "3b6e4f42",
   "metadata": {},
   "source": [
    "### For Source code:\n",
    "https://sites.google.com/view/aorbtech/programming/\n",
    "\n",
    "#### @Aorb Tech"
   ]
  }
 ],
 "metadata": {
  "kernelspec": {
   "display_name": "Python 3",
   "language": "python",
   "name": "python3"
  },
  "language_info": {
   "codemirror_mode": {
    "name": "ipython",
    "version": 3
   },
   "file_extension": ".py",
   "mimetype": "text/x-python",
   "name": "python",
   "nbconvert_exporter": "python",
   "pygments_lexer": "ipython3",
   "version": "3.13.4"
  }
 },
 "nbformat": 4,
 "nbformat_minor": 5
}
