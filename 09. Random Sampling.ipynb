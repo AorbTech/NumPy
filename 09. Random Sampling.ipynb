{
 "cells": [
  {
   "cell_type": "markdown",
   "id": "cc06d4f8",
   "metadata": {},
   "source": [
    "![cover](cover/09.%20Random%20Sampling.png)"
   ]
  },
  {
   "cell_type": "markdown",
   "id": "190e8fb3",
   "metadata": {},
   "source": [
    "#### Outline\n",
    "* random.random()\n",
    "* random.randint()\n",
    "* np.random.seed()\n",
    "* np.random.choice()\n",
    "* np.random.permutation()"
   ]
  },
  {
   "cell_type": "markdown",
   "id": "44dddd71",
   "metadata": {},
   "source": [
    "##### Import NumPy"
   ]
  },
  {
   "cell_type": "code",
   "execution_count": 1,
   "id": "9b8a8aea",
   "metadata": {},
   "outputs": [],
   "source": [
    "import numpy as np"
   ]
  },
  {
   "cell_type": "markdown",
   "id": "cd450e52",
   "metadata": {},
   "source": [
    "### Random Sampling\n",
    "Random sampling means picking random items from a list, array, or range without any specific order."
   ]
  },
  {
   "cell_type": "markdown",
   "id": "96092a50",
   "metadata": {},
   "source": [
    "#### random.random()"
   ]
  },
  {
   "cell_type": "code",
   "execution_count": 3,
   "id": "b3f6dd33",
   "metadata": {},
   "outputs": [
    {
     "data": {
      "text/plain": [
       "array([0.65728899, 0.2552881 , 0.06392804, 0.43815529])"
      ]
     },
     "execution_count": 3,
     "metadata": {},
     "output_type": "execute_result"
    }
   ],
   "source": [
    "a = np.random.random(4)\n",
    "a"
   ]
  },
  {
   "cell_type": "code",
   "execution_count": 4,
   "id": "fc51d115",
   "metadata": {},
   "outputs": [
    {
     "data": {
      "text/plain": [
       "array([0.11538031, 0.99215751, 0.15365112, 0.93983956, 0.95654005,\n",
       "       0.82693807, 0.32414953, 0.63196981])"
      ]
     },
     "execution_count": 4,
     "metadata": {},
     "output_type": "execute_result"
    }
   ],
   "source": [
    "b = np.random.random(8)\n",
    "b"
   ]
  },
  {
   "cell_type": "code",
   "execution_count": 5,
   "id": "e759f0d9",
   "metadata": {},
   "outputs": [
    {
     "data": {
      "text/plain": [
       "array([[0.3579339 , 0.13783759, 0.77857201],\n",
       "       [0.90994759, 0.67231993, 0.34712862]])"
      ]
     },
     "execution_count": 5,
     "metadata": {},
     "output_type": "execute_result"
    }
   ],
   "source": [
    "m = np.random.random((2, 3))\n",
    "m"
   ]
  },
  {
   "cell_type": "code",
   "execution_count": 6,
   "id": "54a826ac",
   "metadata": {},
   "outputs": [
    {
     "data": {
      "text/plain": [
       "array([[0.98983757, 0.27272267, 0.74424754, 0.96730359, 0.70878169,\n",
       "        0.03409971, 0.65188077, 0.28248959, 0.47498496],\n",
       "       [0.25418996, 0.66159161, 0.38898409, 0.90171475, 0.93847643,\n",
       "        0.71287685, 0.39837387, 0.23907748, 0.96919634],\n",
       "       [0.9793644 , 0.23671987, 0.84610468, 0.71800144, 0.65069829,\n",
       "        0.82642095, 0.56925184, 0.33859075, 0.19063601],\n",
       "       [0.91713666, 0.72222415, 0.95520947, 0.0901057 , 0.2168561 ,\n",
       "        0.96261562, 0.56438504, 0.3514087 , 0.48773383],\n",
       "       [0.25009179, 0.6948415 , 0.56874738, 0.81966812, 0.00792193,\n",
       "        0.33485861, 0.56532831, 0.08322405, 0.00456449]])"
      ]
     },
     "execution_count": 6,
     "metadata": {},
     "output_type": "execute_result"
    }
   ],
   "source": [
    "m1 = np.random.random((5, 9))\n",
    "m1"
   ]
  },
  {
   "cell_type": "markdown",
   "id": "8400176d",
   "metadata": {},
   "source": [
    "#### random.randint()"
   ]
  },
  {
   "cell_type": "code",
   "execution_count": 9,
   "id": "d07542a0",
   "metadata": {},
   "outputs": [
    {
     "data": {
      "text/plain": [
       "72"
      ]
     },
     "execution_count": 9,
     "metadata": {},
     "output_type": "execute_result"
    }
   ],
   "source": [
    "x = np.random.randint(1, 100)\n",
    "x"
   ]
  },
  {
   "cell_type": "code",
   "execution_count": 10,
   "id": "89f15fc2",
   "metadata": {},
   "outputs": [
    {
     "data": {
      "text/plain": [
       "8"
      ]
     },
     "execution_count": 10,
     "metadata": {},
     "output_type": "execute_result"
    }
   ],
   "source": [
    "yx = np.random.randint(7, 11)\n",
    "yx"
   ]
  },
  {
   "cell_type": "code",
   "execution_count": 11,
   "id": "689f770b",
   "metadata": {},
   "outputs": [
    {
     "data": {
      "text/plain": [
       "array([[34, 40, 31, 59],\n",
       "       [88, 43, 86, 23],\n",
       "       [19, 56, 40, 96]], dtype=int32)"
      ]
     },
     "execution_count": 11,
     "metadata": {},
     "output_type": "execute_result"
    }
   ],
   "source": [
    "m2 = np.random.randint(1, 100, (3, 4))\n",
    "m2"
   ]
  },
  {
   "cell_type": "code",
   "execution_count": 12,
   "id": "f39dc5ec",
   "metadata": {},
   "outputs": [
    {
     "data": {
      "text/plain": [
       "array([[106, 103, 106, 106, 118],\n",
       "       [113, 112, 101, 103, 119],\n",
       "       [105, 107, 104, 107, 111],\n",
       "       [107, 114, 114, 113, 106],\n",
       "       [106, 107, 109, 105, 116]], dtype=int32)"
      ]
     },
     "execution_count": 12,
     "metadata": {},
     "output_type": "execute_result"
    }
   ],
   "source": [
    "m3 = np.random.randint(101, 120, (5, 5))\n",
    "m3"
   ]
  },
  {
   "cell_type": "markdown",
   "id": "63ff718d",
   "metadata": {},
   "source": [
    "### random.seed()"
   ]
  },
  {
   "cell_type": "code",
   "execution_count": 23,
   "id": "41c5f97a",
   "metadata": {},
   "outputs": [
    {
     "data": {
      "text/plain": [
       "8"
      ]
     },
     "execution_count": 23,
     "metadata": {},
     "output_type": "execute_result"
    }
   ],
   "source": [
    "np.random.seed(0)\n",
    "m4 = np.random.randint(4, 10)\n",
    "m4"
   ]
  },
  {
   "cell_type": "code",
   "execution_count": 27,
   "id": "a3c54318",
   "metadata": {},
   "outputs": [
    {
     "data": {
      "text/plain": [
       "8"
      ]
     },
     "execution_count": 27,
     "metadata": {},
     "output_type": "execute_result"
    }
   ],
   "source": [
    "np.random.seed(0)\n",
    "m4 = np.random.randint(4, 10)\n",
    "m4"
   ]
  },
  {
   "cell_type": "code",
   "execution_count": 29,
   "id": "d34d0e1d",
   "metadata": {},
   "outputs": [
    {
     "data": {
      "text/plain": [
       "7"
      ]
     },
     "execution_count": 29,
     "metadata": {},
     "output_type": "execute_result"
    }
   ],
   "source": [
    "np.random.seed(42)\n",
    "m5 = np.random.randint(4, 10)\n",
    "m5"
   ]
  },
  {
   "cell_type": "code",
   "execution_count": 30,
   "id": "8281433b",
   "metadata": {},
   "outputs": [
    {
     "data": {
      "text/plain": [
       "7"
      ]
     },
     "execution_count": 30,
     "metadata": {},
     "output_type": "execute_result"
    }
   ],
   "source": [
    "np.random.seed(42)\n",
    "m6 = np.random.randint(4, 10)\n",
    "m6"
   ]
  },
  {
   "cell_type": "markdown",
   "id": "8c8cb68c",
   "metadata": {},
   "source": [
    "#### random.choice()"
   ]
  },
  {
   "cell_type": "code",
   "execution_count": 34,
   "id": "217e5a1b",
   "metadata": {},
   "outputs": [
    {
     "data": {
      "text/plain": [
       "np.int64(7)"
      ]
     },
     "execution_count": 34,
     "metadata": {},
     "output_type": "execute_result"
    }
   ],
   "source": [
    "x = [1, 2, 3, 5, 7, 4, 9, 10]\n",
    "np.random.choice(x)"
   ]
  },
  {
   "cell_type": "code",
   "execution_count": 35,
   "id": "ac769358",
   "metadata": {},
   "outputs": [
    {
     "data": {
      "text/plain": [
       "np.int64(9)"
      ]
     },
     "execution_count": 35,
     "metadata": {},
     "output_type": "execute_result"
    }
   ],
   "source": [
    "x = [1, 2, 3, 5, 7, 4, 9, 10]\n",
    "np.random.choice(x)"
   ]
  },
  {
   "cell_type": "code",
   "execution_count": 36,
   "id": "14053d46",
   "metadata": {},
   "outputs": [
    {
     "data": {
      "text/plain": [
       "np.int64(2)"
      ]
     },
     "execution_count": 36,
     "metadata": {},
     "output_type": "execute_result"
    }
   ],
   "source": [
    "x = [1, 2, 3, 5, 7, 4, 9, 10]\n",
    "np.random.choice(x)"
   ]
  },
  {
   "cell_type": "code",
   "execution_count": 37,
   "id": "fc8f9fdb",
   "metadata": {},
   "outputs": [
    {
     "data": {
      "text/plain": [
       "np.int64(3)"
      ]
     },
     "execution_count": 37,
     "metadata": {},
     "output_type": "execute_result"
    }
   ],
   "source": [
    "x = [1, 2, 3, 5, 7, 4, 9, 10]\n",
    "np.random.choice(x)"
   ]
  },
  {
   "cell_type": "markdown",
   "id": "879e6737",
   "metadata": {},
   "source": [
    "#### random.permutation()"
   ]
  },
  {
   "cell_type": "code",
   "execution_count": 38,
   "id": "71b06751",
   "metadata": {},
   "outputs": [
    {
     "data": {
      "text/plain": [
       "array([7, 4, 1, 8, 6])"
      ]
     },
     "execution_count": 38,
     "metadata": {},
     "output_type": "execute_result"
    }
   ],
   "source": [
    "x = [1, 4, 6, 7, 8]\n",
    "np.random.permutation(x)"
   ]
  },
  {
   "cell_type": "code",
   "execution_count": 39,
   "id": "06b369f6",
   "metadata": {},
   "outputs": [
    {
     "data": {
      "text/plain": [
       "array([8, 7, 1, 4, 6])"
      ]
     },
     "execution_count": 39,
     "metadata": {},
     "output_type": "execute_result"
    }
   ],
   "source": [
    "x = [1, 4, 6, 7, 8]\n",
    "np.random.permutation(x)"
   ]
  },
  {
   "cell_type": "code",
   "execution_count": 40,
   "id": "14e7a161",
   "metadata": {},
   "outputs": [
    {
     "data": {
      "text/plain": [
       "array([1, 6, 8, 4, 7])"
      ]
     },
     "execution_count": 40,
     "metadata": {},
     "output_type": "execute_result"
    }
   ],
   "source": [
    "x = [1, 4, 6, 7, 8]\n",
    "np.random.permutation(x)"
   ]
  },
  {
   "cell_type": "markdown",
   "id": "3b6e4f42",
   "metadata": {},
   "source": [
    "### For Source code:\n",
    "https://sites.google.com/view/aorbtech/programming/\n",
    "\n",
    "#### @Aorb Tech"
   ]
  }
 ],
 "metadata": {
  "kernelspec": {
   "display_name": "Python 3",
   "language": "python",
   "name": "python3"
  },
  "language_info": {
   "codemirror_mode": {
    "name": "ipython",
    "version": 3
   },
   "file_extension": ".py",
   "mimetype": "text/x-python",
   "name": "python",
   "nbconvert_exporter": "python",
   "pygments_lexer": "ipython3",
   "version": "3.11.9"
  }
 },
 "nbformat": 4,
 "nbformat_minor": 5
}
