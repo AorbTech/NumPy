{
 "cells": [
  {
   "cell_type": "markdown",
   "id": "cc06d4f8",
   "metadata": {},
   "source": [
    "![cover](cover/04.%20Functions.png)"
   ]
  },
  {
   "cell_type": "markdown",
   "id": "190e8fb3",
   "metadata": {},
   "source": [
    "#### Outline\n",
    "* Arange\n",
    "* Linspace\n",
    "* Reshape\n",
    "* Ravel\n",
    "* Flatten\n",
    "* Transpose"
   ]
  },
  {
   "cell_type": "markdown",
   "id": "44dddd71",
   "metadata": {},
   "source": [
    "##### Import NumPy"
   ]
  },
  {
   "cell_type": "code",
   "execution_count": 1,
   "id": "eb369855",
   "metadata": {},
   "outputs": [],
   "source": [
    "import numpy"
   ]
  },
  {
   "cell_type": "markdown",
   "id": "bf3e10a2",
   "metadata": {},
   "source": [
    "#### 4.1 arange\n",
    "Creates an array in the range (a, b) with step size [n]: </br> `arange(a, b, n)` --> (start, stop, jump)"
   ]
  },
  {
   "cell_type": "code",
   "execution_count": 2,
   "id": "4ff046c6",
   "metadata": {},
   "outputs": [
    {
     "name": "stdout",
     "output_type": "stream",
     "text": [
      "[1 3 5 7 9]\n"
     ]
    }
   ],
   "source": [
    "array = numpy.arange(1, 10, 2)  # create an array with odd numbers from 1-9\n",
    "print(array)"
   ]
  },
  {
   "cell_type": "code",
   "execution_count": 3,
   "id": "fa66f741",
   "metadata": {},
   "outputs": [
    {
     "name": "stdout",
     "output_type": "stream",
     "text": [
      "[  1   2   3   4   5   6   7   8   9  10  11  12  13  14  15  16  17  18\n",
      "  19  20  21  22  23  24  25  26  27  28  29  30  31  32  33  34  35  36\n",
      "  37  38  39  40  41  42  43  44  45  46  47  48  49  50  51  52  53  54\n",
      "  55  56  57  58  59  60  61  62  63  64  65  66  67  68  69  70  71  72\n",
      "  73  74  75  76  77  78  79  80  81  82  83  84  85  86  87  88  89  90\n",
      "  91  92  93  94  95  96  97  98  99 100]\n"
     ]
    }
   ],
   "source": [
    "array = numpy.arange(1, 101)    # create an array with numbers ranging from 1-100\n",
    "print(array)"
   ]
  },
  {
   "cell_type": "markdown",
   "id": "5a31bff4",
   "metadata": {},
   "source": [
    "#### 4.2 linspace\n",
    "Creates a set of [n] values beetween [a] and [b]: </br>\n",
    "`linspace(a, b, n)` --> (start, end, no_elements)"
   ]
  },
  {
   "cell_type": "code",
   "execution_count": 4,
   "id": "102a1d66",
   "metadata": {},
   "outputs": [
    {
     "name": "stdout",
     "output_type": "stream",
     "text": [
      "[ 10.  20.  30.  40.  50.  60.  70.  80.  90. 100.]\n"
     ]
    }
   ],
   "source": [
    "array = numpy.linspace(10, 100, 10) # create an array with 10 equally spaced elements between 10 and 100 (inclusive)\n",
    "print(array)"
   ]
  },
  {
   "cell_type": "code",
   "execution_count": 5,
   "id": "36e4c8c4",
   "metadata": {},
   "outputs": [
    {
     "name": "stdout",
     "output_type": "stream",
     "text": [
      "[1.         1.22222222 1.44444444 1.66666667 1.88888889 2.11111111\n",
      " 2.33333333 2.55555556 2.77777778 3.        ]\n"
     ]
    }
   ],
   "source": [
    "decimal = numpy.linspace(1, 3, 10)  # create an array with 10 equally spaced elements between 1 and 3 (inclusive)\n",
    "print(decimal)"
   ]
  },
  {
   "cell_type": "markdown",
   "id": "9ebc7890",
   "metadata": {},
   "source": [
    "#### 4.3 reshape\n",
    "Rearranges the elements in the array to fit a new dimensionality, conforming to a given shape. </br>\n",
    "i.e. distributing 12 elements into 2 arrays of size 6: (2, 6)</br>\n",
    "`reshape(a, b, ... n)`"
   ]
  },
  {
   "cell_type": "code",
   "execution_count": 6,
   "id": "67a787b6",
   "metadata": {},
   "outputs": [
    {
     "name": "stdout",
     "output_type": "stream",
     "text": [
      "[ 1  2  3  4  5  6  7  8  9 10 11 12 13 14 15 16 17 18 19 20]\n"
     ]
    }
   ],
   "source": [
    "array = numpy.arange(1, 21) # create an array with 20 elements\n",
    "print(array)"
   ]
  },
  {
   "cell_type": "code",
   "execution_count": 7,
   "id": "a58a2914",
   "metadata": {},
   "outputs": [
    {
     "name": "stdout",
     "output_type": "stream",
     "text": [
      "[[ 1  2  3  4  5]\n",
      " [ 6  7  8  9 10]\n",
      " [11 12 13 14 15]\n",
      " [16 17 18 19 20]]\n"
     ]
    }
   ],
   "source": [
    "array2 = array.reshape(4, 5)    # create a new array with the elements from our previous one\n",
    "                                # such that the elements are rearranged to 4 arrays with 5 elements each\n",
    "print(array2)"
   ]
  },
  {
   "cell_type": "code",
   "execution_count": 8,
   "id": "925a36b0",
   "metadata": {},
   "outputs": [
    {
     "name": "stdout",
     "output_type": "stream",
     "text": [
      "[ 1  2  3  4  5  6  7  8  9 10 11 12 13 14 15 16 17 18 19 20 21 22 23 24\n",
      " 25 26 27]\n"
     ]
    }
   ],
   "source": [
    "array = numpy.arange(1, 28) # create an array with 27 elements\n",
    "print(array)"
   ]
  },
  {
   "cell_type": "code",
   "execution_count": 9,
   "id": "4c4a9edb",
   "metadata": {},
   "outputs": [
    {
     "name": "stdout",
     "output_type": "stream",
     "text": [
      "[[[ 1  2  3]\n",
      "  [ 4  5  6]\n",
      "  [ 7  8  9]]\n",
      "\n",
      " [[10 11 12]\n",
      "  [13 14 15]\n",
      "  [16 17 18]]\n",
      "\n",
      " [[19 20 21]\n",
      "  [22 23 24]\n",
      "  [25 26 27]]]\n"
     ]
    }
   ],
   "source": [
    "array3 = array.reshape(3, 3, 3) # create a new array with elements rearranged into a 3x3x3 matrix\n",
    "print(array3)"
   ]
  },
  {
   "cell_type": "markdown",
   "id": "6aae0014",
   "metadata": {},
   "source": [
    "#### 4.4 ravel\n",
    "Reduces a multi-dimensional array into a 1D array. </br>\n",
    "NOTE: Returns a view of the original array whenever possible. </br>\n",
    "`ravel()`"
   ]
  },
  {
   "cell_type": "code",
   "execution_count": 10,
   "id": "b3bb580b",
   "metadata": {},
   "outputs": [
    {
     "name": "stdout",
     "output_type": "stream",
     "text": [
      "[ 1  2  3  4  5  6  7  8  9 10 11 12 13 14 15 16 17 18 19 20 21 22 23 24\n",
      " 25 26 27]\n"
     ]
    }
   ],
   "source": [
    "print(array3.ravel())   # reduce the array from our previous example into a 1-dimensional array"
   ]
  },
  {
   "cell_type": "markdown",
   "id": "a43d0081",
   "metadata": {},
   "source": [
    "#### 4.5 flatten\n",
    "Reduces a multi-dimensional array into a 1D array. </br>\n",
    "NOTE: Always returns a copy of the original array. </br>\n",
    "`flatten()`"
   ]
  },
  {
   "cell_type": "code",
   "execution_count": 11,
   "id": "2245bb94",
   "metadata": {},
   "outputs": [
    {
     "name": "stdout",
     "output_type": "stream",
     "text": [
      "[ 1  2  3  4  5  6  7  8  9 10 11 12 13 14 15 16 17 18 19 20 21 22 23 24\n",
      " 25 26 27]\n"
     ]
    }
   ],
   "source": [
    "print(array3.flatten()) # reduce the array from our previous example into a 1-dimensional array"
   ]
  },
  {
   "cell_type": "markdown",
   "id": "08675a59",
   "metadata": {},
   "source": [
    "#### 4.6 transpose\n",
    "Exchanges the rows and columns of elements in the array. </br>\n",
    "Array[i, j] = Array[j, i] </br>\n",
    "`transpose()`"
   ]
  },
  {
   "cell_type": "code",
   "execution_count": 12,
   "id": "a6bcf412",
   "metadata": {},
   "outputs": [
    {
     "name": "stdout",
     "output_type": "stream",
     "text": [
      "[[1 2 3]\n",
      " [4 5 6]\n",
      " [7 8 9]]\n"
     ]
    }
   ],
   "source": [
    "matrix = numpy.arange(1,10).reshape(3,3)    # create a 3x3 matrix\n",
    "print(matrix)"
   ]
  },
  {
   "cell_type": "code",
   "execution_count": 13,
   "id": "d5e7192f",
   "metadata": {},
   "outputs": [
    {
     "name": "stdout",
     "output_type": "stream",
     "text": [
      "[[1 4 7]\n",
      " [2 5 8]\n",
      " [3 6 9]]\n"
     ]
    }
   ],
   "source": [
    "transposed_matrix = matrix.transpose()  # transpose the elements in the matrix \n",
    "                                        # ( elements in position [i, j] are swapped with elements in position [j, i])\n",
    "print(transposed_matrix)"
   ]
  },
  {
   "cell_type": "markdown",
   "id": "3b6e4f42",
   "metadata": {},
   "source": [
    "### For Source code:\n",
    "https://sites.google.com/view/aorbtech/programming/\n",
    "\n",
    "#### @Aorb Tech"
   ]
  }
 ],
 "metadata": {
  "kernelspec": {
   "display_name": "Python 3",
   "language": "python",
   "name": "python3"
  },
  "language_info": {
   "codemirror_mode": {
    "name": "ipython",
    "version": 3
   },
   "file_extension": ".py",
   "mimetype": "text/x-python",
   "name": "python",
   "nbconvert_exporter": "python",
   "pygments_lexer": "ipython3",
   "version": "3.13.4"
  }
 },
 "nbformat": 4,
 "nbformat_minor": 5
}
