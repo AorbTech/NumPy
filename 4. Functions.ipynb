{
 "cells": [
  {
   "cell_type": "markdown",
   "id": "cc06d4f8",
   "metadata": {},
   "source": [
    "![cover](cover/02.%20Functions.png)"
   ]
  },
  {
   "cell_type": "markdown",
   "id": "190e8fb3",
   "metadata": {},
   "source": [
    "#### Outline\n",
    "4.1 Arange </br>\n",
    "4.2 Linspace </br>\n",
    "4.3 Reshape </br>\n",
    "4.4 Ravel </br>\n",
    "4.5 Flatten </br>\n",
    "4.6 Transpose"
   ]
  },
  {
   "cell_type": "markdown",
   "id": "44dddd71",
   "metadata": {},
   "source": [
    "##### Import NumPy"
   ]
  },
  {
   "cell_type": "markdown",
   "id": "bf3e10a2",
   "metadata": {},
   "source": [
    "#### 4.1 arange\n",
    "Creates an array in the range (a, b) with step size [n]: </br> `arange(a, b, n)` --> (start, stop, jump)"
   ]
  },
  {
   "cell_type": "markdown",
   "id": "5a31bff4",
   "metadata": {},
   "source": [
    "#### 4.2 linspace\n",
    "Creates a set of [n] values beetween [a] and [b]: </br>\n",
    "`linspace(a, b, n)` --> (start, end, no_elements)"
   ]
  },
  {
   "cell_type": "markdown",
   "id": "9ebc7890",
   "metadata": {},
   "source": [
    "#### 4.3 reshape\n",
    "Rearranges the elements in the array to fit a new dimensionality, conforming to a given shape. </br>\n",
    "i.e. distributing 12 elements into 2 arrays of size 6: (2, 6)</br>\n",
    "`reshape(a, b, ... n)`"
   ]
  },
  {
   "cell_type": "markdown",
   "id": "6aae0014",
   "metadata": {},
   "source": [
    "#### 4.4 ravel\n",
    "Reduces a multi-dimensional array into a 1D array. </br>\n",
    "NOTE: Returns a view of the original array whenever possible. </br>\n",
    "`ravel()`"
   ]
  },
  {
   "cell_type": "markdown",
   "id": "a43d0081",
   "metadata": {},
   "source": [
    "#### 4.5 flatten\n",
    "Reduces a multi-dimensional array into a 1D array. </br>\n",
    "NOTE: Always returns a copy of the original array. </br>\n",
    "`flatten()`"
   ]
  },
  {
   "cell_type": "markdown",
   "id": "08675a59",
   "metadata": {},
   "source": [
    "#### 4.6 transpose\n",
    "Exchanges the rows and columns of elements in the array. </br>\n",
    "Array[i, j] = Array[j, i] </br>\n",
    "`transpose()`"
   ]
  },
  {
   "cell_type": "markdown",
   "id": "3b6e4f42",
   "metadata": {},
   "source": [
    "### For Source code:\n",
    "https://sites.google.com/view/aorbtech/programming/\n",
    "\n",
    "#### @Aorb Tech"
   ]
  }
 ],
 "metadata": {
  "kernelspec": {
   "display_name": "Python 3",
   "language": "python",
   "name": "python3"
  },
  "language_info": {
   "codemirror_mode": {
    "name": "ipython",
    "version": 3
   },
   "file_extension": ".py",
   "mimetype": "text/x-python",
   "name": "python",
   "nbconvert_exporter": "python",
   "pygments_lexer": "ipython3",
   "version": "3.13.4"
  }
 },
 "nbformat": 4,
 "nbformat_minor": 5
}
