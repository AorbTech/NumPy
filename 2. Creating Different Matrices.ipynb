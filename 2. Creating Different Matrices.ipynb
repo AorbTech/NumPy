{
 "cells": [
  {
   "cell_type": "markdown",
   "id": "cc06d4f8",
   "metadata": {},
   "source": [
    "![cover](cover/02.%20N-Dimensional%20Arrays.png)"
   ]
  },
  {
   "cell_type": "markdown",
   "id": "190e8fb3",
   "metadata": {},
   "source": [
    "#### Outline\n",
    "* Arrays\n",
    "* Creating 1D Arrays\n",
    "* Creating 2D Arrays"
   ]
  },
  {
   "cell_type": "markdown",
   "id": "6b0c0ff3",
   "metadata": {},
   "source": [
    "### Introduction to Arrays\n",
    "* Arrays are much like a list, though they are not dynamic data structures, making them static. This means that arrays, unlike lists, cannot increase or decrease in length during runtime. They are mutable (changable during the runtime) and ordered."
   ]
  },
  {
   "cell_type": "markdown",
   "id": "44dddd71",
   "metadata": {},
   "source": [
    "##### Import NumPy"
   ]
  },
  {
   "cell_type": "code",
   "execution_count": 1,
   "id": "660b481b",
   "metadata": {},
   "outputs": [],
   "source": [
    "import numpy"
   ]
  },
  {
   "cell_type": "markdown",
   "id": "5aa2d75b",
   "metadata": {},
   "source": [
    "#### Creating 1D Arrays\n",
    "And checking their data-type, dimensionality, size and shape."
   ]
  },
  {
   "cell_type": "code",
   "execution_count": 2,
   "id": "dd660e25",
   "metadata": {},
   "outputs": [
    {
     "name": "stdout",
     "output_type": "stream",
     "text": [
      "[ 10 122  76  28   4]\n"
     ]
    }
   ],
   "source": [
    "array = numpy.array([10, 122, 76, 28, 4])\n",
    "print(array)"
   ]
  },
  {
   "cell_type": "code",
   "execution_count": 3,
   "id": "d0509bdc",
   "metadata": {},
   "outputs": [
    {
     "data": {
      "text/plain": [
       "numpy.ndarray"
      ]
     },
     "execution_count": 3,
     "metadata": {},
     "output_type": "execute_result"
    }
   ],
   "source": [
    "type(array)"
   ]
  },
  {
   "cell_type": "code",
   "execution_count": null,
   "id": "a6141ba4",
   "metadata": {},
   "outputs": [
    {
     "data": {
      "text/plain": [
       "1"
      ]
     },
     "execution_count": 4,
     "metadata": {},
     "output_type": "execute_result"
    }
   ],
   "source": [
    "array.ndim  # tells us the dimensionality of the array"
   ]
  },
  {
   "cell_type": "code",
   "execution_count": null,
   "id": "802b74be",
   "metadata": {},
   "outputs": [
    {
     "data": {
      "text/plain": [
       "5"
      ]
     },
     "execution_count": 5,
     "metadata": {},
     "output_type": "execute_result"
    }
   ],
   "source": [
    "array.size  # tells us how many elements are stored in the array (works for 1-dimensional arrays)"
   ]
  },
  {
   "cell_type": "code",
   "execution_count": null,
   "id": "18ef9cf0",
   "metadata": {},
   "outputs": [
    {
     "data": {
      "text/plain": [
       "dtype('int64')"
      ]
     },
     "execution_count": 6,
     "metadata": {},
     "output_type": "execute_result"
    }
   ],
   "source": [
    "array.dtype # tells us the data type of the elements stored in the array"
   ]
  },
  {
   "cell_type": "markdown",
   "id": "1139d349",
   "metadata": {},
   "source": [
    "#### Creating 2D Arrays"
   ]
  },
  {
   "cell_type": "code",
   "execution_count": null,
   "id": "61087687",
   "metadata": {},
   "outputs": [
    {
     "name": "stdout",
     "output_type": "stream",
     "text": [
      "[[12 13 14]\n",
      " [15 16 17]]\n"
     ]
    }
   ],
   "source": [
    "array_2d = numpy.array([[12, 13, 14],[15, 16, 17]]) # using nested brackets we can create 2-dimensional arrays\n",
    "print(array_2d) # we can print the values in the array"
   ]
  },
  {
   "cell_type": "code",
   "execution_count": null,
   "id": "df01d550",
   "metadata": {},
   "outputs": [
    {
     "data": {
      "text/plain": [
       "(2, 3)"
      ]
     },
     "execution_count": 8,
     "metadata": {},
     "output_type": "execute_result"
    }
   ],
   "source": [
    "array_2d.shape  # tells us the \"shape\" of the array, i.e. 2x3 grid of elements"
   ]
  },
  {
   "cell_type": "code",
   "execution_count": null,
   "id": "221881ee",
   "metadata": {},
   "outputs": [
    {
     "data": {
      "text/plain": [
       "numpy.ndarray"
      ]
     },
     "execution_count": 9,
     "metadata": {},
     "output_type": "execute_result"
    }
   ],
   "source": [
    "type(array_2d)  # tells us the data type that the array_2d variable is"
   ]
  },
  {
   "cell_type": "code",
   "execution_count": null,
   "id": "ceb1940b",
   "metadata": {},
   "outputs": [
    {
     "data": {
      "text/plain": [
       "dtype('int64')"
      ]
     },
     "execution_count": 10,
     "metadata": {},
     "output_type": "execute_result"
    }
   ],
   "source": [
    "array_2d.dtype  # tells us the data type of the elements stored in the array"
   ]
  },
  {
   "cell_type": "code",
   "execution_count": null,
   "id": "910dd4ac",
   "metadata": {},
   "outputs": [
    {
     "data": {
      "text/plain": [
       "2"
      ]
     },
     "execution_count": 11,
     "metadata": {},
     "output_type": "execute_result"
    }
   ],
   "source": [
    "array_2d.ndim   # tells us the dimensionality of the array"
   ]
  },
  {
   "cell_type": "markdown",
   "id": "3b6e4f42",
   "metadata": {},
   "source": [
    "### For Source code:\n",
    "https://sites.google.com/view/aorbtech/programming/\n",
    "\n",
    "#### @Aorb Tech"
   ]
  }
 ],
 "metadata": {
  "kernelspec": {
   "display_name": "Python 3",
   "language": "python",
   "name": "python3"
  },
  "language_info": {
   "codemirror_mode": {
    "name": "ipython",
    "version": 3
   },
   "file_extension": ".py",
   "mimetype": "text/x-python",
   "name": "python",
   "nbconvert_exporter": "python",
   "pygments_lexer": "ipython3",
   "version": "3.11.9"
  }
 },
 "nbformat": 4,
 "nbformat_minor": 5
}
