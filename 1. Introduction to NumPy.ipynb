{
 "cells": [
  {
   "cell_type": "markdown",
   "id": "cc06d4f8",
   "metadata": {},
   "source": [
    "![cover](cover/01.%20Intro.png)"
   ]
  },
  {
   "cell_type": "markdown",
   "id": "190e8fb3",
   "metadata": {},
   "source": [
    "#### Outline\n",
    "* Introduction to NumPy\n",
    "* Founder of NumPy\n",
    "* Why we use NumPy\n",
    "* How to Install and use NumPy\n",
    "* Prerequisite to Learn NumPy\n",
    "* Outline of this NumPy"
   ]
  },
  {
   "cell_type": "markdown",
   "id": "6b0c0ff3",
   "metadata": {},
   "source": [
    "### Introduction to NumPy\n",
    "* NumPy is a Python library used for working with numbers, arrays, and mathematical functions.\n",
    "* It is very fast because it is built on C language.\n",
    "* NumPy makes it easier to do math operations on large sets of data."
   ]
  },
  {
   "cell_type": "markdown",
   "id": "d807b41b",
   "metadata": {},
   "source": [
    "### Founder of NumPy\n",
    "* NumPy was created in 2005 by Travis Oliphant.\n",
    "* He combined an older library called Numeric with Numarray and made NumPy.\n",
    "* Today, NumPy is maintained by the open-source community."
   ]
  },
  {
   "cell_type": "markdown",
   "id": "5a990f04",
   "metadata": {},
   "source": [
    "### Why use NumPy?\n",
    "* Works faster than Python lists\n",
    "* Used in Data Science, Machine Learning, AI\n",
    "* Easy to handle large arrays & matrices"
   ]
  },
  {
   "cell_type": "markdown",
   "id": "69bdb2f0",
   "metadata": {},
   "source": [
    "### How to Install and use NumPy"
   ]
  },
  {
   "cell_type": "code",
   "execution_count": 5,
   "id": "0c6c15ba",
   "metadata": {},
   "outputs": [
    {
     "name": "stdout",
     "output_type": "stream",
     "text": [
      "Requirement already satisfied: numpy in c:\\users\\guest\\appdata\\local\\packages\\pythonsoftwarefoundation.python.3.11_qbz5n2kfra8p0\\localcache\\local-packages\\python311\\site-packages (2.3.2)\n"
     ]
    },
    {
     "name": "stderr",
     "output_type": "stream",
     "text": [
      "\n",
      "[notice] A new release of pip is available: 25.0.1 -> 25.2\n",
      "[notice] To update, run: C:\\Users\\Guest\\AppData\\Local\\Microsoft\\WindowsApps\\PythonSoftwareFoundation.Python.3.11_qbz5n2kfra8p0\\python.exe -m pip install --upgrade pip\n"
     ]
    }
   ],
   "source": [
    "!pip install numpy"
   ]
  },
  {
   "cell_type": "code",
   "execution_count": null,
   "id": "8840a3d0",
   "metadata": {},
   "outputs": [],
   "source": [
    "import numpy as np"
   ]
  },
  {
   "cell_type": "code",
   "execution_count": 9,
   "id": "f514cbe2",
   "metadata": {},
   "outputs": [
    {
     "data": {
      "text/plain": [
       "array([1, 2])"
      ]
     },
     "execution_count": 9,
     "metadata": {},
     "output_type": "execute_result"
    }
   ],
   "source": [
    "a = np.array([1, 2])\n",
    "a"
   ]
  },
  {
   "cell_type": "markdown",
   "id": "7e317247",
   "metadata": {},
   "source": [
    "### Prerequisite to Learn NumPy\n",
    "* Python"
   ]
  },
  {
   "cell_type": "markdown",
   "id": "b6920cb6",
   "metadata": {},
   "source": [
    "### What we will cover in this Course"
   ]
  },
  {
   "cell_type": "markdown",
   "id": "3d6f2573",
   "metadata": {},
   "source": [
    "1. Create 1D and 2D metrics\n",
    "2. Create Ones, Zeros and Empty Metrics\n",
    "3. NumPy Function\n",
    "4. Mathematical Operations\n",
    "5. Array Slicing\n",
    "6. Concatenation and Split\n",
    "7. Trignometry sin(), cos(), and tan()\n",
    "8. Random Sampling\n",
    "9. Operation in Strings"
   ]
  },
  {
   "cell_type": "markdown",
   "id": "3b6e4f42",
   "metadata": {},
   "source": [
    "### For Source code:\n",
    "https://sites.google.com/view/aorbtech/programming/\n",
    "\n",
    "#### @Aorb Tech"
   ]
  }
 ],
 "metadata": {
  "kernelspec": {
   "display_name": "Python 3",
   "language": "python",
   "name": "python3"
  },
  "language_info": {
   "codemirror_mode": {
    "name": "ipython",
    "version": 3
   },
   "file_extension": ".py",
   "mimetype": "text/x-python",
   "name": "python",
   "nbconvert_exporter": "python",
   "pygments_lexer": "ipython3",
   "version": "3.11.9"
  }
 },
 "nbformat": 4,
 "nbformat_minor": 5
}
